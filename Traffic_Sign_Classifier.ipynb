{
 "cells": [
  {
   "cell_type": "markdown",
   "metadata": {},
   "source": [
    "# Self-Driving Car Engineer Nanodegree\n",
    "\n",
    "## Deep Learning\n",
    "\n",
    "## Project: Build a Traffic Sign Recognition Classifier\n",
    "\n",
    "In this notebook, a template is provided for you to implement your functionality in stages, which is required to successfully complete this project. If additional code is required that cannot be included in the notebook, be sure that the Python code is successfully imported and included in your submission if necessary. \n",
    "\n",
    "> **Note**: Once you have completed all of the code implementations, you need to finalize your work by exporting the iPython Notebook as an HTML document. Before exporting the notebook to html, all of the code cells need to have been run so that reviewers can see the final implementation and output. You can then export the notebook by using the menu above and navigating to  \\n\",\n",
    "    \"**File -> Download as -> HTML (.html)**. Include the finished document along with this notebook as your submission. \n",
    "\n",
    "In addition to implementing code, there is a writeup to complete. The writeup should be completed in a separate file, which can be either a markdown file or a pdf document. There is a [write up template](https://github.com/udacity/CarND-Traffic-Sign-Classifier-Project/blob/master/writeup_template.md) that can be used to guide the writing process. Completing the code template and writeup template will cover all of the [rubric points](https://review.udacity.com/#!/rubrics/481/view) for this project.\n",
    "\n",
    "The [rubric](https://review.udacity.com/#!/rubrics/481/view) contains \"Stand Out Suggestions\" for enhancing the project beyond the minimum requirements. The stand out suggestions are optional. If you decide to pursue the \"stand out suggestions\", you can include the code in this Ipython notebook and also discuss the results in the writeup file.\n",
    "\n",
    "\n",
    ">**Note:** Code and Markdown cells can be executed using the **Shift + Enter** keyboard shortcut. In addition, Markdown cells can be edited by typically double-clicking the cell to enter edit mode."
   ]
  },
  {
   "cell_type": "markdown",
   "metadata": {},
   "source": [
    "---\n",
    "## Step 0: Load The Data"
   ]
  },
  {
   "cell_type": "code",
   "execution_count": 1,
   "metadata": {
    "collapsed": true
   },
   "outputs": [],
   "source": [
    "import pickle\n",
    "import cv2\n",
    "import time\n",
    "\n",
    "# TODO: Fill this in based on where you saved the training and testing data\n",
    "\n",
    "training_file = 'Dataset/train.p'\n",
    "validation_file= 'Dataset/valid.p'\n",
    "testing_file = 'Dataset/test.p'\n",
    "\n",
    "with open(training_file, mode='rb') as f:\n",
    "    train = pickle.load(f)\n",
    "with open(validation_file, mode='rb') as f:\n",
    "    valid = pickle.load(f)\n",
    "with open(testing_file, mode='rb') as f:\n",
    "    test = pickle.load(f)\n",
    "    \n",
    "X_train, y_train = train['features'], train['labels']\n",
    "X_valid, y_valid = valid['features'], valid['labels']\n",
    "X_test, y_test = test['features'], test['labels']"
   ]
  },
  {
   "cell_type": "markdown",
   "metadata": {},
   "source": [
    "---\n",
    "\n",
    "## Step 1: Dataset Summary & Exploration\n",
    "\n",
    "The pickled data is a dictionary with 4 key/value pairs:\n",
    "\n",
    "- `'features'` is a 4D array containing raw pixel data of the traffic sign images, (num examples, width, height, channels).\n",
    "- `'labels'` is a 1D array containing the label/class id of the traffic sign. The file `signnames.csv` contains id -> name mappings for each id.\n",
    "- `'sizes'` is a list containing tuples, (width, height) representing the original width and height the image.\n",
    "- `'coords'` is a list containing tuples, (x1, y1, x2, y2) representing coordinates of a bounding box around the sign in the image. **THESE COORDINATES ASSUME THE ORIGINAL IMAGE. THE PICKLED DATA CONTAINS RESIZED VERSIONS (32 by 32) OF THESE IMAGES**\n",
    "\n",
    "Complete the basic data summary below. Use python, numpy and/or pandas methods to calculate the data summary rather than hard coding the results. For example, the [pandas shape method](http://pandas.pydata.org/pandas-docs/stable/generated/pandas.DataFrame.shape.html) might be useful for calculating some of the summary results. "
   ]
  },
  {
   "cell_type": "markdown",
   "metadata": {},
   "source": [
    "### Provide a Basic Summary of the Data Set Using Python, Numpy and/or Pandas"
   ]
  },
  {
   "cell_type": "code",
   "execution_count": 2,
   "metadata": {},
   "outputs": [
    {
     "name": "stdout",
     "output_type": "stream",
     "text": [
      "Number of training examples = 34799\n",
      "Number of testing examples = 12630\n",
      "Image data shape = (32, 32, 3)\n",
      "Number of classes = 43\n"
     ]
    }
   ],
   "source": [
    "### Replace each question mark with the appropriate value. \n",
    "### Use python, pandas or numpy methods rather than hard coding the results\n",
    "import numpy as np\n",
    "import pandas as pd\n",
    "\n",
    "# TODO: Number of training examples\n",
    "n_train = len(X_train)\n",
    "\n",
    "# TODO: Number of validation examples\n",
    "n_validation = len(X_valid)\n",
    "\n",
    "# TODO: Number of testing examples.\n",
    "n_test = len(X_test)\n",
    "\n",
    "# TODO: What's the shape of an traffic sign image?\n",
    "image_shape = X_train[0].shape\n",
    "\n",
    "# TODO: How many unique classes/labels there are in the dataset.\n",
    "n_classes = np.unique(y_train).size\n",
    "\n",
    "print(\"Number of training examples =\", n_train)\n",
    "print(\"Number of testing examples =\", n_test)\n",
    "print(\"Image data shape =\", image_shape)\n",
    "print(\"Number of classes =\", n_classes)"
   ]
  },
  {
   "cell_type": "markdown",
   "metadata": {},
   "source": [
    "### Include an exploratory visualization of the dataset"
   ]
  },
  {
   "cell_type": "markdown",
   "metadata": {},
   "source": [
    "Visualize the German Traffic Signs Dataset using the pickled file(s). This is open ended, suggestions include: plotting traffic sign images, plotting the count of each sign, etc. \n",
    "\n",
    "The [Matplotlib](http://matplotlib.org/) [examples](http://matplotlib.org/examples/index.html) and [gallery](http://matplotlib.org/gallery.html) pages are a great resource for doing visualizations in Python.\n",
    "\n",
    "**NOTE:** It's recommended you start with something simple first. If you wish to do more, come back to it after you've completed the rest of the sections. It can be interesting to look at the distribution of classes in the training, validation and test set. Is the distribution the same? Are there more examples of some classes than others?"
   ]
  },
  {
   "cell_type": "code",
   "execution_count": 3,
   "metadata": {},
   "outputs": [
    {
     "data": {
      "image/png": "[encoded data removed]",
      "text/plain": [
       "<matplotlib.figure.Figure at 0x7f98c09ac630>"
      ]
     },
     "metadata": {},
     "output_type": "display_data"
    },
    {
     "name": "stdout",
     "output_type": "stream",
     "text": [
      "                                                  SignName  Occurence\n",
      "ClassId                                                              \n",
      "0                                     Speed limit (20km/h)        180\n",
      "1                                     Speed limit (30km/h)       1980\n",
      "2                                     Speed limit (50km/h)       2010\n",
      "3                                     Speed limit (60km/h)       1260\n",
      "4                                     Speed limit (70km/h)       1770\n",
      "5                                     Speed limit (80km/h)       1650\n",
      "6                              End of speed limit (80km/h)        360\n",
      "7                                    Speed limit (100km/h)       1290\n",
      "8                                    Speed limit (120km/h)       1260\n",
      "9                                               No passing       1320\n",
      "10            No passing for vehicles over 3.5 metric tons       1800\n",
      "11                   Right-of-way at the next intersection       1170\n",
      "12                                           Priority road       1890\n",
      "13                                                   Yield       1920\n",
      "14                                                    Stop        690\n",
      "15                                             No vehicles        540\n",
      "16                Vehicles over 3.5 metric tons prohibited        360\n",
      "17                                                No entry        990\n",
      "18                                         General caution       1080\n",
      "19                             Dangerous curve to the left        180\n",
      "20                            Dangerous curve to the right        300\n",
      "21                                            Double curve        270\n",
      "22                                              Bumpy road        330\n",
      "23                                           Slippery road        450\n",
      "24                               Road narrows on the right        240\n",
      "25                                               Road work       1350\n",
      "26                                         Traffic signals        540\n",
      "27                                             Pedestrians        210\n",
      "28                                       Children crossing        480\n",
      "29                                       Bicycles crossing        240\n",
      "30                                      Beware of ice/snow        390\n",
      "31                                   Wild animals crossing        690\n",
      "32                     End of all speed and passing limits        210\n",
      "33                                        Turn right ahead        599\n",
      "34                                         Turn left ahead        360\n",
      "35                                              Ahead only       1080\n",
      "36                                    Go straight or right        330\n",
      "37                                     Go straight or left        180\n",
      "38                                              Keep right       1860\n",
      "39                                               Keep left        270\n",
      "40                                    Roundabout mandatory        300\n",
      "41                                       End of no passing        210\n",
      "42       End of no passing by vehicles over 3.5 metric ...        210\n"
     ]
    }
   ],
   "source": [
    "### Data exploration visualization code goes here.\n",
    "### Feel free to use as many code cells as needed.\n",
    "import matplotlib.pyplot as plt\n",
    "import random\n",
    "# Visualizations will be shown in the notebook.\n",
    "%matplotlib inline\n",
    "\n",
    "def show_class_distribution(classIDs, title):\n",
    "    plt.figure(figsize=(20, 10))\n",
    "    plt.title('{} distribution'.format(title))\n",
    "    plt.hist(classIDs, bins=n_classes, rwidth = 0.9)\n",
    "    plt.xlim(xmin=0)\n",
    "    plt.show()\n",
    "    \n",
    "show_class_distribution(y_train, 'Train Data')\n",
    "\n",
    "sign_names = pd.read_csv('signnames.csv', index_col='ClassId')\n",
    "sign_names['Occurence'] = [sum(y_train==c) for c in range(n_classes)]\n",
    "print(sign_names)"
   ]
  },
  {
   "cell_type": "markdown",
   "metadata": {},
   "source": [
    "----\n",
    "\n",
    "## Step 2: Design and Test a Model Architecture\n",
    "\n",
    "Design and implement a deep learning model that learns to recognize traffic signs. Train and test your model on the [German Traffic Sign Dataset](http://benchmark.ini.rub.de/?section=gtsrb&subsection=dataset).\n",
    "\n",
    "The LeNet-5 implementation shown in the [classroom](https://classroom.udacity.com/nanodegrees/nd013/parts/fbf77062-5703-404e-b60c-95b78b2f3f9e/modules/6df7ae49-c61c-4bb2-a23e-6527e69209ec/lessons/601ae704-1035-4287-8b11-e2c2716217ad/concepts/d4aca031-508f-4e0b-b493-e7b706120f81) at the end of the CNN lesson is a solid starting point. You'll have to change the number of classes and possibly the preprocessing, but aside from that it's plug and play! \n",
    "\n",
    "With the LeNet-5 solution from the lecture, you should expect a validation set accuracy of about 0.89. To meet specifications, the validation set accuracy will need to be at least 0.93. It is possible to get an even higher accuracy, but 0.93 is the minimum for a successful project submission. \n",
    "\n",
    "There are various aspects to consider when thinking about this problem:\n",
    "\n",
    "- Neural network architecture (is the network over or underfitting?)\n",
    "- Play around preprocessing techniques (normalization, rgb to grayscale, etc)\n",
    "- Number of examples per label (some have more than others).\n",
    "- Generate fake data.\n",
    "\n",
    "Here is an example of a [published baseline model on this problem](http://yann.lecun.com/exdb/publis/pdf/sermanet-ijcnn-11.pdf). It's not required to be familiar with the approach used in the paper but, it's good practice to try to read papers like these."
   ]
  },
  {
   "cell_type": "markdown",
   "metadata": {},
   "source": [
    "### Pre-process the Data Set (normalization, grayscale, etc.)"
   ]
  },
  {
   "cell_type": "markdown",
   "metadata": {},
   "source": [
    "Minimally, the image data should be normalized so that the data has mean zero and equal variance. For image data, `(pixel - 128)/ 128` is a quick way to approximately normalize the data and can be used in this project. \n",
    "\n",
    "Other pre-processing steps are optional. You can try different techniques to see if it improves performance. \n",
    "\n",
    "Use the code cell (or multiple code cells, if necessary) to implement the first step of your project."
   ]
  },
  {
   "cell_type": "code",
   "execution_count": null,
   "metadata": {
    "collapsed": true
   },
   "outputs": [],
   "source": [
    "def augment_brightness_images(image):\n",
    "    image1 = cv2.cvtColor(image,cv2.COLOR_RGB2HSV)\n",
    "    random_bright = np.random.uniform()\n",
    "    image1[:,:,2] = image1[:,:,2]*random_bright\n",
    "    #image1[:,:,2] = random_bright\n",
    "    image1 = cv2.cvtColor(image1,cv2.COLOR_HSV2RGB)\n",
    "    return image1"
   ]
  },
  {
   "cell_type": "code",
   "execution_count": null,
   "metadata": {
    "collapsed": true
   },
   "outputs": [],
   "source": [
    "### Preprocess the data here. It is required to normalize the data. Other preprocessing steps could include \n",
    "### converting to grayscale, etc.\n",
    "### Feel free to use as many code cells as needed.\n",
    "start_time = time.time()\n",
    "\n",
    "occurence = [total for total in sign_names['Occurence']]\n",
    "max_occurence = max(occurence)\n",
    "\n",
    "for index in range(len(occurence)):\n",
    "    current_occurence = occurence[index]\n",
    "    print('index:' + str(index))\n",
    "    while current_occurence - max_occurence < 0:\n",
    "        #print(current_occurence - max_occurence)\n",
    "        random_image = random.choice([(image,label) for image,label in zip(X_train, y_train) if label == index])[0]\n",
    "        repeated_time = 0\n",
    "        while repeated_time < 100:\n",
    "            #X_train = np.append(X_train, augment_brightness_images(random_image.squeeze()))\n",
    "            augmented = augment_brightness_images(random_image.squeeze())[np.newaxis, :, :, :]\n",
    "            X_train = np.vstack((X_train, augmented))\n",
    "            y_train = np.append(y_train, index)\n",
    "            repeated_time += 1\n",
    "            #print(repeated_time)\n",
    "        current_occurence += 100\n",
    "        \n",
    "print(\"--- program run in %s seconds ---\" % (time.time() - start_time))        "
   ]
  },
  {
   "cell_type": "code",
   "execution_count": null,
   "metadata": {
    "collapsed": true
   },
   "outputs": [],
   "source": [
    "try:\n",
    "    with open('augmented.pickle', 'wb') as pfile:\n",
    "        pickle.dump(\n",
    "            {\n",
    "                'train_dataset': X_train,\n",
    "                'train_labels': y_train\n",
    "            },\n",
    "            pfile, pickle.HIGHEST_PROTOCOL)\n",
    "except Exception as e:\n",
    "    print('Unable to save data to', pickle_file, ':', e)\n",
    "    raise\n",
    "\n",
    "print('Data cached in pickle file.')"
   ]
  },
  {
   "cell_type": "code",
   "execution_count": null,
   "metadata": {},
   "outputs": [],
   "source": [
    "with open('augmented.pickle', mode='rb') as f:\n",
    "    balance_train = pickle.load(f)\n",
    "    \n",
    "balance_X_train, balance_y_train = balance_train['train_dataset'], balance_train['train_labels']\n",
    "\n",
    "print(\"Number of Augemented training examples =\", len(balance_X_train))\n",
    "print(\"Number of Augemented training label =\", len(balance_y_train))\n",
    "\n",
    "show_class_distribution(balance_y_train, 'Train Data')"
   ]
  },
  {
   "cell_type": "code",
   "execution_count": 5,
   "metadata": {},
   "outputs": [],
   "source": [
    "def normalize(image_data):\n",
    "    return (image_data - image_data.mean())/image_data.std()\n",
    "\n",
    "def centerize(image_data):\n",
    "    return image_data - image_data.mean()\n",
    "\n",
    "\n",
    "def normalize_min_max(image):\n",
    "    return cv2.normalize(image, None, alpha=0, beta=255, norm_type=cv2.NORM_MINMAX)\n",
    "\n",
    "def grayscale(img):\n",
    "    return cv2.cvtColor(img, cv2.COLOR_RGB2GRAY)[:, :, np.newaxis]\n",
    "\n",
    "def hsv(img):\n",
    "    return cv2.cvtColor(img, cv2.COLOR_RGB2HSV)\n",
    "\n",
    "def hls(img):\n",
    "    return cv2.cvtColor(img, cv2.COLOR_RGB2HLS)\n",
    "\n",
    "\n",
    "gray_train = list(map(lambda image: grayscale(image.squeeze()), X_train))\n",
    "#gray_train = list(map(lambda image: grayscale(image.squeeze()), balance_X_train))\n",
    "#hsv_train = list(map(lambda image: hsv(image.squeeze()), X_train))\n",
    "#vlayer_train = list(map(lambda image: np.array(image)[:,:,2][:, :, np.newaxis], hsv_train)) \n",
    "#hls_train = list(map(lambda image: hls(image.squeeze()), X_train))\n",
    "\n",
    "X_normalize_train = list(map(lambda image: normalize(image), gray_train))\n",
    "#y_train = balance_y_train\n",
    "#X_normalize_train = list(map(lambda image: normalize_min_max(centerize(image)), gray_train))\n",
    "#X_normalize_train = list(map(lambda image: normalize(image), X_train))\n",
    "\n",
    "\n",
    "gray_valid = list(map(lambda image: grayscale(image.squeeze()), X_valid))\n",
    "#hsv_valid = list(map(lambda image: hsv(image.squeeze()), X_valid))\n",
    "#vlayer_valid = list(map(lambda image: np.array(image)[:,:,2][:, :, np.newaxis], hsv_valid)) \n",
    "#hls_valid = list(map(lambda image: hls(image.squeeze()), X_valid))\n",
    "\n",
    "X_normalize_valid = list(map(lambda image: normalize(image), gray_valid))\n",
    "#X_normalize_valid = list(map(lambda image: normalize_min_max(centerize(image)), gray_valid))\n",
    "#X_normalize_valid = list(map(lambda image: normalize(image), X_valid))\n"
   ]
  },
  {
   "cell_type": "code",
   "execution_count": null,
   "metadata": {
    "collapsed": true
   },
   "outputs": [],
   "source": [
    "index = 11001\n",
    "total = len(y_train)\n",
    "real_image = balance_X_train[total - index].squeeze()\n",
    "plt.imshow(real_image)\n",
    "plt.show()\n",
    "print(len(balance_X_train))"
   ]
  },
  {
   "cell_type": "markdown",
   "metadata": {},
   "source": [
    "### Model Architecture"
   ]
  },
  {
   "cell_type": "code",
   "execution_count": 6,
   "metadata": {
    "collapsed": true
   },
   "outputs": [],
   "source": [
    "### Train your model here.\n",
    "### Calculate and report the accuracy on the training and validation set.\n",
    "### Once a final model architecture is selected, \n",
    "### the accuracy on the test set should be calculated and reported as well.\n",
    "### Feel free to use as many code cells as needed.\n",
    "from sklearn.utils import shuffle\n",
    "import tensorflow as tf\n",
    "from tensorflow.contrib.layers import flatten\n",
    "\n",
    "EPOCHS = 50\n",
    "BATCH_SIZE = 100\n",
    "mu = 0\n",
    "\n",
    "def get_FC_Layer(X, size_input, size_output, mu = 0, sigma = 0.1):\n",
    "    layer_W = tf.Variable(tf.truncated_normal((size_input, size_output),mean = mu, stddev = np.sqrt(2.0/size_input)))\n",
    "    layer_b = tf.Variable(tf.constant(0.01,shape=[size_output]))\n",
    "    fc = tf.matmul(X, layer_W) + layer_b\n",
    "    return tf.nn.relu(fc)\n",
    "\n",
    "def LeNet(x):    \n",
    "    \n",
    "    # Layer 1: Convolutional. Input = 32x32x1. Output = 28x28x40.\n",
    "    convo1_W = tf.Variable(tf.truncated_normal((5, 5, 1, 20),mean = mu, stddev = np.sqrt(2.0/(32*32))))\n",
    "    convo1_b = tf.Variable(tf.zeros(20))\n",
    "    convo1_stride = 1\n",
    "    convo1 = tf.nn.conv2d(x, convo1_W, strides=[1, convo1_stride, convo1_stride, 1], padding='VALID') + convo1_b\n",
    "    convo1 = tf.nn.relu(convo1)\n",
    "    #convo1 = tf.nn.dropout(convo1, keep_prob)\n",
    "    \n",
    "    # Pooling. Input = 28x28x40. Output = 14x14x40.\n",
    "    convo1 = tf.nn.max_pool(convo1,ksize=[1, 2, 2, 1],strides=[1, 2, 2, 1],padding='VALID')\n",
    "    \n",
    "    # Layer 2: Convolutional. Output = 10x10x64.\n",
    "    convo2_W = tf.Variable(tf.truncated_normal((5, 5, 20, 40),mean = mu, stddev = np.sqrt(2.0/(14*14*20))))\n",
    "    convo2_b = tf.Variable(tf.zeros(40))\n",
    "    convo2_stride = 1\n",
    "    convo2 = tf.nn.conv2d(convo1, convo2_W, strides=[1, convo2_stride, convo2_stride, 1], padding='VALID') + convo2_b\n",
    "    convo2 = tf.nn.relu(convo2)\n",
    "    #convo2 = tf.nn.dropout(convo2, keep_prob)\n",
    "    \n",
    "    # Pooling. Input = 10x10x16. Output = 5x5x64.\n",
    "    convo2 = tf.nn.max_pool(convo2,ksize=[1, 2, 2, 1],strides=[1, 2, 2, 1],padding='VALID')\n",
    "    \n",
    "    # Flatten. Input = 5x5x64. Output = 1600.\n",
    "    flat_convo = flatten(convo2)\n",
    "    \n",
    "    # Layer 3: Fully Connected. Input = 1600. Output = 1000.\n",
    "    fc1 = get_FC_Layer(flat_convo, 1000, 300)\n",
    "    fc1 = tf.nn.dropout(fc1, keep_prob)\n",
    "    # Layer 4: Fully Connected. Input = 1000. Output = 500.\n",
    "    #fc2 = get_FC_Layer(fc1, 1000, 500)\n",
    "    \n",
    "    # Layer 5: Fully Connected. Input = 500. Output = 200.\n",
    "    #fc3 = get_FC_Layer(fc1, 800, 200)\n",
    "    #fc3 = tf.nn.dropout(fc3, keep_prob)\n",
    "    \n",
    "    #Layer 5: Fully Connected. Input = 200. Output = 43.\n",
    "    layer5_W = tf.Variable(tf.truncated_normal((300, 43),mean = mu, stddev = np.sqrt(2.0/300)))\n",
    "    layer5_b = tf.Variable(tf.zeros([43]))  \n",
    "    \n",
    "    logits = tf.add(tf.matmul(fc1, layer5_W), layer5_b)\n",
    "    \n",
    "    return logits, convo1, convo2"
   ]
  },
  {
   "cell_type": "markdown",
   "metadata": {},
   "source": [
    "### Train, Validate and Test the Model"
   ]
  },
  {
   "cell_type": "markdown",
   "metadata": {},
   "source": [
    "A validation set can be used to assess how well the model is performing. A low accuracy on the training and validation\n",
    "sets imply underfitting. A high accuracy on the training set but low accuracy on the validation set implies overfitting."
   ]
  },
  {
   "cell_type": "code",
   "execution_count": 7,
   "metadata": {
    "collapsed": true
   },
   "outputs": [],
   "source": [
    "x = tf.placeholder(tf.float32, (None, 32, 32, 1))\n",
    "y = tf.placeholder(tf.int32, (None))\n",
    "keep_prob = tf.placeholder(tf.float32)\n",
    "\n",
    "one_hot_y = tf.one_hot(y, 43)\n",
    "rate = 0.001\n",
    "\n",
    "logits, convo_1, convo_2 = LeNet(x)\n",
    "cross_entropy = tf.nn.softmax_cross_entropy_with_logits(labels=one_hot_y, logits=logits)\n",
    "loss_operation = tf.reduce_mean(cross_entropy)\n",
    "optimizer = tf.train.AdamOptimizer(learning_rate = rate)\n",
    "training_operation = optimizer.minimize(loss_operation)"
   ]
  },
  {
   "cell_type": "code",
   "execution_count": 8,
   "metadata": {
    "collapsed": true
   },
   "outputs": [],
   "source": [
    "correct_prediction = tf.equal(tf.argmax(logits, 1), tf.argmax(one_hot_y, 1))\n",
    "accuracy_operation = tf.reduce_mean(tf.cast(correct_prediction, tf.float32))\n",
    "saver = tf.train.Saver()\n",
    "\n",
    "def evaluate(X_data, y_data):\n",
    "    num_examples = len(X_data)\n",
    "    total_accuracy = 0\n",
    "    sess = tf.get_default_session()\n",
    "    for offset in range(0, num_examples, BATCH_SIZE):\n",
    "        batch_x, batch_y = X_data[offset:offset+BATCH_SIZE], y_data[offset:offset+BATCH_SIZE]\n",
    "        accuracy = sess.run(accuracy_operation, feed_dict={x: batch_x, y: batch_y, keep_prob: 1})\n",
    "        total_accuracy += (accuracy * len(batch_x))\n",
    "    return total_accuracy / num_examples"
   ]
  },
  {
   "cell_type": "code",
   "execution_count": 9,
   "metadata": {},
   "outputs": [
    {
     "name": "stdout",
     "output_type": "stream",
     "text": [
      "Training...\n",
      "\n",
      "EPOCH 1 ...\n",
      "Validation Accuracy = 0.934\n",
      "Training Accuracy = 0.977\n",
      "\n",
      "EPOCH 2 ...\n",
      "Validation Accuracy = 0.941\n",
      "Training Accuracy = 0.992\n",
      "\n",
      "EPOCH 3 ...\n",
      "Validation Accuracy = 0.961\n",
      "Training Accuracy = 0.996\n",
      "\n",
      "EPOCH 4 ...\n",
      "Validation Accuracy = 0.956\n",
      "Training Accuracy = 0.997\n",
      "\n",
      "EPOCH 5 ...\n",
      "Validation Accuracy = 0.955\n",
      "Training Accuracy = 0.996\n",
      "\n",
      "EPOCH 6 ...\n",
      "Validation Accuracy = 0.962\n",
      "Training Accuracy = 0.999\n",
      "\n",
      "EPOCH 7 ...\n",
      "Validation Accuracy = 0.958\n",
      "Training Accuracy = 0.999\n",
      "\n",
      "EPOCH 8 ...\n",
      "Validation Accuracy = 0.955\n",
      "Training Accuracy = 0.999\n",
      "\n",
      "EPOCH 9 ...\n",
      "Validation Accuracy = 0.969\n",
      "Training Accuracy = 1.000\n",
      "\n",
      "EPOCH 10 ...\n",
      "Validation Accuracy = 0.962\n",
      "Training Accuracy = 1.000\n",
      "\n",
      "EPOCH 11 ...\n",
      "Validation Accuracy = 0.963\n",
      "Training Accuracy = 1.000\n",
      "\n",
      "EPOCH 12 ...\n",
      "Validation Accuracy = 0.964\n",
      "Training Accuracy = 0.999\n",
      "\n",
      "EPOCH 13 ...\n",
      "Validation Accuracy = 0.964\n",
      "Training Accuracy = 1.000\n",
      "\n",
      "EPOCH 14 ...\n",
      "Validation Accuracy = 0.973\n",
      "Training Accuracy = 1.000\n",
      "\n",
      "EPOCH 15 ...\n",
      "Validation Accuracy = 0.965\n",
      "Training Accuracy = 1.000\n",
      "\n",
      "EPOCH 16 ...\n",
      "Validation Accuracy = 0.972\n",
      "Training Accuracy = 1.000\n",
      "\n",
      "EPOCH 17 ...\n",
      "Validation Accuracy = 0.964\n",
      "Training Accuracy = 0.999\n",
      "\n",
      "EPOCH 18 ...\n",
      "Validation Accuracy = 0.967\n",
      "Training Accuracy = 1.000\n",
      "\n",
      "EPOCH 19 ...\n",
      "Validation Accuracy = 0.968\n",
      "Training Accuracy = 1.000\n",
      "\n",
      "EPOCH 20 ...\n",
      "Validation Accuracy = 0.976\n",
      "Training Accuracy = 1.000\n",
      "\n",
      "EPOCH 21 ...\n",
      "Validation Accuracy = 0.980\n",
      "Training Accuracy = 1.000\n",
      "\n",
      "EPOCH 22 ...\n",
      "Validation Accuracy = 0.979\n",
      "Training Accuracy = 1.000\n",
      "\n",
      "EPOCH 23 ...\n",
      "Validation Accuracy = 0.976\n",
      "Training Accuracy = 1.000\n",
      "\n",
      "EPOCH 24 ...\n",
      "Validation Accuracy = 0.975\n",
      "Training Accuracy = 1.000\n",
      "\n",
      "EPOCH 25 ...\n",
      "Validation Accuracy = 0.976\n",
      "Training Accuracy = 1.000\n",
      "\n",
      "EPOCH 26 ...\n",
      "Validation Accuracy = 0.975\n",
      "Training Accuracy = 1.000\n",
      "\n",
      "EPOCH 27 ...\n",
      "Validation Accuracy = 0.976\n",
      "Training Accuracy = 1.000\n",
      "\n",
      "EPOCH 28 ...\n",
      "Validation Accuracy = 0.974\n",
      "Training Accuracy = 1.000\n",
      "\n",
      "EPOCH 29 ...\n",
      "Validation Accuracy = 0.974\n",
      "Training Accuracy = 1.000\n",
      "\n",
      "EPOCH 30 ...\n",
      "Validation Accuracy = 0.973\n",
      "Training Accuracy = 1.000\n",
      "\n",
      "EPOCH 31 ...\n",
      "Validation Accuracy = 0.971\n",
      "Training Accuracy = 1.000\n",
      "\n",
      "EPOCH 32 ...\n",
      "Validation Accuracy = 0.977\n",
      "Training Accuracy = 1.000\n",
      "\n",
      "EPOCH 33 ...\n",
      "Validation Accuracy = 0.974\n",
      "Training Accuracy = 1.000\n",
      "\n",
      "EPOCH 34 ...\n",
      "Validation Accuracy = 0.975\n",
      "Training Accuracy = 1.000\n",
      "\n",
      "EPOCH 35 ...\n",
      "Validation Accuracy = 0.977\n",
      "Training Accuracy = 1.000\n",
      "\n",
      "EPOCH 36 ...\n",
      "Validation Accuracy = 0.975\n",
      "Training Accuracy = 1.000\n",
      "\n",
      "EPOCH 37 ...\n",
      "Validation Accuracy = 0.966\n",
      "Training Accuracy = 1.000\n",
      "\n",
      "EPOCH 38 ...\n",
      "Validation Accuracy = 0.973\n",
      "Training Accuracy = 1.000\n",
      "\n",
      "EPOCH 39 ...\n",
      "Validation Accuracy = 0.973\n",
      "Training Accuracy = 1.000\n",
      "\n",
      "EPOCH 40 ...\n",
      "Validation Accuracy = 0.974\n",
      "Training Accuracy = 1.000\n",
      "\n",
      "EPOCH 41 ...\n",
      "Validation Accuracy = 0.972\n",
      "Training Accuracy = 0.999\n",
      "\n",
      "EPOCH 42 ...\n",
      "Validation Accuracy = 0.971\n",
      "Training Accuracy = 1.000\n",
      "\n",
      "EPOCH 43 ...\n",
      "Validation Accuracy = 0.970\n",
      "Training Accuracy = 1.000\n",
      "\n",
      "EPOCH 44 ...\n",
      "Validation Accuracy = 0.976\n",
      "Training Accuracy = 1.000\n",
      "\n",
      "EPOCH 45 ...\n",
      "Validation Accuracy = 0.975\n",
      "Training Accuracy = 1.000\n",
      "\n",
      "EPOCH 46 ...\n",
      "Validation Accuracy = 0.976\n",
      "Training Accuracy = 1.000\n",
      "\n",
      "EPOCH 47 ...\n",
      "Validation Accuracy = 0.973\n",
      "Training Accuracy = 1.000\n",
      "\n",
      "EPOCH 48 ...\n",
      "Validation Accuracy = 0.967\n",
      "Training Accuracy = 1.000\n",
      "\n",
      "EPOCH 49 ...\n",
      "Validation Accuracy = 0.972\n",
      "Training Accuracy = 1.000\n",
      "\n",
      "EPOCH 50 ...\n",
      "Validation Accuracy = 0.978\n",
      "Training Accuracy = 1.000\n",
      "\n",
      "--- program run in 274.12524127960205 seconds ---\n"
     ]
    }
   ],
   "source": [
    "import time\n",
    "start_time = time.time()\n",
    "validation_learning_curve = []\n",
    "training_learning_curve = []\n",
    "\n",
    "with tf.Session() as sess:\n",
    "    sess.run(tf.global_variables_initializer())\n",
    "    num_examples = len(X_train)\n",
    "    \n",
    "    print(\"Training...\")\n",
    "    print()\n",
    "    for i in range(EPOCHS):\n",
    "        X_normalize_train, y_train = shuffle(X_normalize_train, y_train)\n",
    "        for offset in range(0, num_examples, BATCH_SIZE):\n",
    "            end = offset + BATCH_SIZE\n",
    "            batch_x, batch_y = X_normalize_train[offset:end], y_train[offset:end]\n",
    "            # Run optimizer and get loss\n",
    "            sess.run(training_operation, feed_dict={x: batch_x, y: batch_y, keep_prob: 0.5})\n",
    "            \n",
    "        validation_accuracy = evaluate(X_normalize_valid, y_valid)\n",
    "        training_accuracy = evaluate(X_normalize_train, y_train)\n",
    "        print(\"EPOCH {} ...\".format(i+1))\n",
    "        print(\"Validation Accuracy = {:.3f}\".format(validation_accuracy))\n",
    "        print(\"Training Accuracy = {:.3f}\".format(training_accuracy))        \n",
    "        validation_learning_curve.append([i+1, validation_accuracy])\n",
    "        training_learning_curve.append([i+1, training_accuracy])\n",
    "        print()\n",
    "        \n",
    "    saver.save(sess, './traffic')\n",
    "    #print(\"Model saved\")\n",
    "    \n",
    "print(\"--- program run in %s seconds ---\" % (time.time() - start_time))"
   ]
  },
  {
   "cell_type": "code",
   "execution_count": 10,
   "metadata": {},
   "outputs": [
    {
     "data": {
      "image/png": "[encoded data removed]",
      "text/plain": [
       "<matplotlib.figure.Figure at 0x7f988ef9e438>"
      ]
     },
     "metadata": {},
     "output_type": "display_data"
    }
   ],
   "source": [
    "def show_learning_curve(validation_learning_curve, training_learning_curve):\n",
    "    epochs_axis = [curve[0] for curve in validation_learning_curve]\n",
    "    valid_axis = [curve[1] for curve in validation_learning_curve]\n",
    "    training_axis = [curve[1] for curve in training_learning_curve]\n",
    "    plt.figure(figsize=(30, 10))\n",
    "    plt.plot(epochs_axis, valid_axis, label='validation')\n",
    "    plt.plot(epochs_axis, training_axis, label='training')\n",
    "    plt.title('Learning Curve')\n",
    "    plt.ylabel('accuracy')\n",
    "    plt.xlabel('epochs')\n",
    "    plt.xticks(epochs_axis)\n",
    "    plt.legend(loc='center right')\n",
    "    \n",
    "show_learning_curve(validation_learning_curve, training_learning_curve)"
   ]
  },
  {
   "cell_type": "code",
   "execution_count": 11,
   "metadata": {},
   "outputs": [
    {
     "name": "stdout",
     "output_type": "stream",
     "text": [
      "Test Accuracy = 0.962\n"
     ]
    }
   ],
   "source": [
    "gray_test = list(map(lambda image: grayscale(image.squeeze()), X_test))\n",
    "X_normalize_test = list(map(lambda image: normalize(image), gray_test))\n",
    "\n",
    "with tf.Session() as sess:\n",
    "    saver.restore(sess, tf.train.latest_checkpoint('.'))\n",
    "\n",
    "    test_accuracy = evaluate(X_normalize_test, y_test)\n",
    "    print(\"Test Accuracy = {:.3f}\".format(test_accuracy))"
   ]
  },
  {
   "cell_type": "markdown",
   "metadata": {},
   "source": [
    "---\n",
    "\n",
    "## Step 3: Test a Model on New Images\n",
    "\n",
    "To give yourself more insight into how your model is working, download at least five pictures of German traffic signs from the web and use your model to predict the traffic sign type.\n",
    "\n",
    "You may find `signnames.csv` useful as it contains mappings from the class id (integer) to the actual sign name."
   ]
  },
  {
   "cell_type": "markdown",
   "metadata": {},
   "source": [
    "### Load and Output the Images"
   ]
  },
  {
   "cell_type": "code",
   "execution_count": 12,
   "metadata": {},
   "outputs": [
    {
     "data": {
      "image/png": "[encoded data removed]",
      "text/plain": [
       "<matplotlib.figure.Figure at 0x7f98be58add8>"
      ]
     },
     "metadata": {},
     "output_type": "display_data"
    }
   ],
   "source": [
    "### Load the images and plot them here.\n",
    "import glob\n",
    "\n",
    "random_images = {file.split('/')[1]: cv2.imread(file) for file in glob.glob(\"Images/*.ppm\")}\n",
    "\n",
    "def show_ppm_images(images, text, cols = 2, size = 20):\n",
    "    count_images = len(images)\n",
    "    rows = (size+1)//cols\n",
    "    plt.figure(figsize=(cols*3,rows*2.5))\n",
    "    for i in range(size):\n",
    "        real_image = images[i]\n",
    "        plt.subplot(rows, cols, i+1)\n",
    "        plt.imshow(real_image)\n",
    "        if len(text) > 0:\n",
    "            plt.text(0, 0, '{}'.format(text[i]), color='k',backgroundcolor='c', fontsize=8)\n",
    "        else:\n",
    "            plt.text(0, 0, '{}'.format(real_image.shape), color='k',backgroundcolor='c', fontsize=8)\n",
    "        plt.xticks([])\n",
    "        plt.yticks([])\n",
    "    plt.tight_layout(pad=0, h_pad=0, w_pad=0)\n",
    "    plt.show()\n",
    "\n",
    "\n",
    "def resize_image(image):\n",
    "    return cv2.resize(image, (32, 32))\n",
    "\n",
    "\n",
    "resized_random_images = list(map(lambda image: resize_image(image), [image for image in random_images.values()]))\n",
    "\n",
    "show_ppm_images(resized_random_images, [], 5, len(resized_random_images))\n"
   ]
  },
  {
   "cell_type": "markdown",
   "metadata": {},
   "source": [
    "### Predict the Sign Type for Each Image"
   ]
  },
  {
   "cell_type": "code",
   "execution_count": 13,
   "metadata": {},
   "outputs": [
    {
     "data": {
      "image/png": "[encoded data removed]",
      "text/plain": [
       "<matplotlib.figure.Figure at 0x7f988c682a20>"
      ]
     },
     "metadata": {},
     "output_type": "display_data"
    }
   ],
   "source": [
    "### Run the predictions here and use the model to output the prediction for each image.\n",
    "### Make sure to pre-process the images with the same pre-processing pipeline used earlier.\n",
    "sign_names = pd.read_csv('signnames.csv', index_col='ClassId')\n",
    "gray_random = list(map(lambda image: grayscale(image), resized_random_images))\n",
    "X_normalize_random = list(map(lambda image: normalize(image), gray_random))\n",
    "\n",
    "prediction = tf.nn.softmax(logits)\n",
    "classified_random = []\n",
    "\n",
    "with tf.Session() as sess:\n",
    "    saver.restore(sess, tf.train.latest_checkpoint('.'))\n",
    "\n",
    "    feed_dict = {x: X_normalize_random, y: [1], keep_prob: 1}\n",
    "    classification = sess.run(prediction, feed_dict)\n",
    "    for i in range(len(classification)):\n",
    "        max_index = classification[i].tolist().index(max(classification[i]))\n",
    "        classified_random.append([max_index, sign_names.values[max_index]])\n",
    "    \n",
    "show_ppm_images(resized_random_images, [i[1] for i in classified_random], 5, len(resized_random_images))"
   ]
  },
  {
   "cell_type": "markdown",
   "metadata": {},
   "source": [
    "### Analyze Performance"
   ]
  },
  {
   "cell_type": "code",
   "execution_count": 14,
   "metadata": {},
   "outputs": [
    {
     "name": "stdout",
     "output_type": "stream",
     "text": [
      "fail image: [18, array(['General caution'], dtype=object)], ['00003.ppm' 27 29 5 5 22 24 33]\n",
      "accuracy = 0.800\n"
     ]
    }
   ],
   "source": [
    "### Calculate the accuracy for these 5 new images. \n",
    "### For example, if the model predicted 1 out of 5 signs correctly, it's 20% accurate on these new images.\n",
    "random_test_labels = pd.read_csv('Images/random_test.csv', sep=';')\n",
    "total = 0\n",
    "\n",
    "random_image_names = list(random_images.keys())\n",
    "\n",
    "for i in range(len(classified_random)):\n",
    "    predicted_value = classified_random[i][0]\n",
    "    test_label = [label for label in random_test_labels.values if random_image_names[i] == label[0]]\n",
    "    test_label = np.squeeze(test_label, axis=0)\n",
    "    \n",
    "    if test_label[7] == predicted_value:\n",
    "        total += 1\n",
    "    else:\n",
    "        print('fail image: {}, {}'.format(classified_random[i],random_test_labels.values[i]))\n",
    "\n",
    "print('accuracy = {:.3f}'.format(total / len(random_test_labels)))"
   ]
  },
  {
   "cell_type": "markdown",
   "metadata": {},
   "source": [
    "### Output Top 5 Softmax Probabilities For Each Image Found on the Web"
   ]
  },
  {
   "cell_type": "markdown",
   "metadata": {},
   "source": [
    "For each of the new images, print out the model's softmax probabilities to show the **certainty** of the model's predictions (limit the output to the top 5 probabilities for each image). [`tf.nn.top_k`](https://www.tensorflow.org/versions/r0.12/api_docs/python/nn.html#top_k) could prove helpful here. \n",
    "\n",
    "The example below demonstrates how tf.nn.top_k can be used to find the top k predictions for each image.\n",
    "\n",
    "`tf.nn.top_k` will return the values and indices (class ids) of the top k predictions. So if k=3, for each sign, it'll return the 3 largest probabilities (out of a possible 43) and the correspoding class ids.\n",
    "\n",
    "Take this numpy array as an example. The values in the array represent predictions. The array contains softmax probabilities for five candidate images with six possible classes. `tf.nn.top_k` is used to choose the three classes with the highest probability:\n",
    "\n",
    "```\n",
    "# (5, 6) array\n",
    "a = np.array([[ 0.24879643,  0.07032244,  0.12641572,  0.34763842,  0.07893497,\n",
    "         0.12789202],\n",
    "       [ 0.28086119,  0.27569815,  0.08594638,  0.0178669 ,  0.18063401,\n",
    "         0.15899337],\n",
    "       [ 0.26076848,  0.23664738,  0.08020603,  0.07001922,  0.1134371 ,\n",
    "         0.23892179],\n",
    "       [ 0.11943333,  0.29198961,  0.02605103,  0.26234032,  0.1351348 ,\n",
    "         0.16505091],\n",
    "       [ 0.09561176,  0.34396535,  0.0643941 ,  0.16240774,  0.24206137,\n",
    "         0.09155967]])\n",
    "```\n",
    "\n",
    "Running it through `sess.run(tf.nn.top_k(tf.constant(a), k=3))` produces:\n",
    "\n",
    "```\n",
    "TopKV2(values=array([[ 0.34763842,  0.24879643,  0.12789202],\n",
    "       [ 0.28086119,  0.27569815,  0.18063401],\n",
    "       [ 0.26076848,  0.23892179,  0.23664738],\n",
    "       [ 0.29198961,  0.26234032,  0.16505091],\n",
    "       [ 0.34396535,  0.24206137,  0.16240774]]), indices=array([[3, 0, 5],\n",
    "       [0, 1, 4],\n",
    "       [0, 5, 1],\n",
    "       [1, 3, 5],\n",
    "       [1, 4, 3]], dtype=int32))\n",
    "```\n",
    "\n",
    "Looking just at the first row we get `[ 0.34763842,  0.24879643,  0.12789202]`, you can confirm these are the 3 largest probabilities in `a`. You'll also notice `[3, 0, 5]` are the corresponding indices."
   ]
  },
  {
   "cell_type": "code",
   "execution_count": 15,
   "metadata": {},
   "outputs": [
    {
     "name": "stdout",
     "output_type": "stream",
     "text": [
      "TopKV2(values=array([[  9.70795751e-01,   2.88549475e-02,   3.21525469e-04,\n",
      "          2.70083819e-05,   4.84815075e-07],\n",
      "       [  1.00000000e+00,   2.14249171e-32,   1.04943693e-34,\n",
      "          1.74392508e-35,   1.71017388e-36],\n",
      "       [  1.00000000e+00,   3.87683199e-23,   1.84349099e-28,\n",
      "          2.72228731e-30,   9.72755253e-32],\n",
      "       [  1.00000000e+00,   9.29654183e-12,   3.86336101e-19,\n",
      "          2.78409607e-20,   1.41634162e-20],\n",
      "       [  1.00000000e+00,   0.00000000e+00,   0.00000000e+00,\n",
      "          0.00000000e+00,   0.00000000e+00]], dtype=float32), indices=array([[18, 11, 12,  1,  6],\n",
      "       [35, 33, 12, 25, 20],\n",
      "       [33, 14, 37, 35, 39],\n",
      "       [28, 29,  3, 12,  8],\n",
      "       [38,  0,  1,  2,  3]], dtype=int32))\n"
     ]
    }
   ],
   "source": [
    "### Print out the top five softmax probabilities for the predictions on the German traffic sign images found on the web. \n",
    "### Feel free to use as many code cells as needed.\n",
    "with tf.Session() as sess:\n",
    "    top_five = sess.run(tf.nn.top_k(classification, k=5))\n",
    "\n",
    "print(top_five)\n"
   ]
  },
  {
   "cell_type": "markdown",
   "metadata": {},
   "source": [
    "### Project Writeup\n",
    "\n",
    "Once you have completed the code implementation, document your results in a project writeup using this [template](https://github.com/udacity/CarND-Traffic-Sign-Classifier-Project/blob/master/writeup_template.md) as a guide. The writeup can be in a markdown or pdf file. "
   ]
  },
  {
   "cell_type": "markdown",
   "metadata": {},
   "source": [
    "> **Note**: Once you have completed all of the code implementations and successfully answered each question above, you may finalize your work by exporting the iPython Notebook as an HTML document. You can do this by using the menu above and navigating to  \\n\",\n",
    "    \"**File -> Download as -> HTML (.html)**. Include the finished document along with this notebook as your submission."
   ]
  },
  {
   "cell_type": "markdown",
   "metadata": {},
   "source": [
    "---\n",
    "\n",
    "## Step 4 (Optional): Visualize the Neural Network's State with Test Images\n",
    "\n",
    " This Section is not required to complete but acts as an additional excersise for understaning the output of a neural network's weights. While neural networks can be a great learning device they are often referred to as a black box. We can understand what the weights of a neural network look like better by plotting their feature maps. After successfully training your neural network you can see what it's feature maps look like by plotting the output of the network's weight layers in response to a test stimuli image. From these plotted feature maps, it's possible to see what characteristics of an image the network finds interesting. For a sign, maybe the inner network feature maps react with high activation to the sign's boundary outline or to the contrast in the sign's painted symbol.\n",
    "\n",
    " Provided for you below is the function code that allows you to get the visualization output of any tensorflow weight layer you want. The inputs to the function should be a stimuli image, one used during training or a new one you provided, and then the tensorflow variable name that represents the layer's state during the training process, for instance if you wanted to see what the [LeNet lab's](https://classroom.udacity.com/nanodegrees/nd013/parts/fbf77062-5703-404e-b60c-95b78b2f3f9e/modules/6df7ae49-c61c-4bb2-a23e-6527e69209ec/lessons/601ae704-1035-4287-8b11-e2c2716217ad/concepts/d4aca031-508f-4e0b-b493-e7b706120f81) feature maps looked like for it's second convolutional layer you could enter conv2 as the tf_activation variable.\n",
    "\n",
    "For an example of what feature map outputs look like, check out NVIDIA's results in their paper [End-to-End Deep Learning for Self-Driving Cars](https://devblogs.nvidia.com/parallelforall/deep-learning-self-driving-cars/) in the section Visualization of internal CNN State. NVIDIA was able to show that their network's inner weights had high activations to road boundary lines by comparing feature maps from an image with a clear path to one without. Try experimenting with a similar test to show that your trained network's weights are looking for interesting features, whether it's looking at differences in feature maps from images with or without a sign, or even what feature maps look like in a trained network vs a completely untrained one on the same sign image.\n",
    "\n",
    "<figure>\n",
    " <img src=\"visualize_cnn.png\" width=\"380\" alt=\"Combined Image\" />\n",
    " <figcaption>\n",
    " <p></p> \n",
    " <p style=\"text-align: center;\"> Your output should look something like this (above)</p> \n",
    " </figcaption>\n",
    "</figure>\n",
    " <p></p> \n"
   ]
  },
  {
   "cell_type": "code",
   "execution_count": 16,
   "metadata": {},
   "outputs": [
    {
     "data": {
      "image/png": "[encoded data removed]",
      "text/plain": [
       "<matplotlib.figure.Figure at 0x7f99081261d0>"
      ]
     },
     "metadata": {},
     "output_type": "display_data"
    }
   ],
   "source": [
    "### Visualize your network's feature maps here.\n",
    "### Feel free to use as many code cells as needed.\n",
    "\n",
    "# image_input: the test image being fed into the network to produce the feature maps\n",
    "# tf_activation: should be a tf variable name used during your training procedure that represents the calculated state of a specific weight layer\n",
    "# activation_min/max: can be used to view the activation contrast in more detail, by default matplot sets min and max to the actual min and max values of the output\n",
    "# plt_num: used to plot out multiple different weight feature map sets on the same block, just extend the plt number for each new feature map entry\n",
    "\n",
    "def outputFeatureMap(image_input, tf_activation, activation_min=-1, activation_max=-1 ,plt_num=1):\n",
    "    # Here make sure to preprocess your image_input in a way your network expects\n",
    "    # with size, normalization, ect if needed\n",
    "    # image_input =\n",
    "    # Note: x should be the same name as your network's tensorflow data placeholder variable\n",
    "    # If you get an error tf_activation is not defined it may be having trouble accessing the variable from inside a function\n",
    "    with tf.Session() as sess:\n",
    "        saver.restore(sess, tf.train.latest_checkpoint('.'))    \n",
    "        activation = tf_activation.eval(session=sess,feed_dict={x : image_input, keep_prob: 1})\n",
    "        featuremaps = activation.shape[3]\n",
    "        plt.figure(plt_num, figsize=(15,15))\n",
    "        for featuremap in range(featuremaps):\n",
    "            plt.subplot(6,8, featuremap+1) # sets the number of feature maps to show on each row and column\n",
    "            plt.title('FeatureMap ' + str(featuremap)) # displays the feature map number\n",
    "            if activation_min != -1 & activation_max != -1:\n",
    "                plt.imshow(activation[0,:,:, featuremap], interpolation=\"nearest\", vmin =activation_min, vmax=activation_max, cmap=\"gray\")\n",
    "            elif activation_max != -1:\n",
    "                plt.imshow(activation[0,:,:, featuremap], interpolation=\"nearest\", vmax=activation_max, cmap=\"gray\")\n",
    "            elif activation_min !=-1:\n",
    "                plt.imshow(activation[0,:,:, featuremap], interpolation=\"nearest\", vmin=activation_min, cmap=\"gray\")\n",
    "            else:\n",
    "                plt.imshow(activation[0,:,:, featuremap], interpolation=\"nearest\", cmap=\"gray\")\n",
    "                \n",
    "outputFeatureMap(gray_random[3][np.newaxis,:, :, :],convo_1)"
   ]
  }
 ],
 "metadata": {
  "anaconda-cloud": {},
  "kernelspec": {
   "display_name": "Python 3",
   "language": "python",
   "name": "python3"
  },
  "language_info": {
   "codemirror_mode": {
    "name": "ipython",
    "version": 3
   },
   "file_extension": ".py",
   "mimetype": "text/x-python",
   "name": "python",
   "nbconvert_exporter": "python",
   "pygments_lexer": "ipython3",
   "version": "3.5.2"
  },
  "widgets": {
   "state": {},
   "version": "1.1.2"
  }
 },
 "nbformat": 4,
 "nbformat_minor": 1
}
